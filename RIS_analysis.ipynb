{
 "cells": [
  {
   "cell_type": "markdown",
   "metadata": {},
   "source": [
    "# RIS analysis using Hyperspy"
   ]
  },
  {
   "cell_type": "markdown",
   "metadata": {},
   "source": [
    "## Access data"
   ]
  },
  {
   "cell_type": "code",
   "execution_count": 16,
   "metadata": {},
   "outputs": [
    {
     "name": "stdout",
     "output_type": "stream",
     "text": [
      "Working directory:  C:\\Users\\Gabriella\\Documents\\EDS_data\n",
      "Filename:  ROI2_450kx_SS5_CA50_onedge.bcf\n"
     ]
    }
   ],
   "source": [
    "#-----USER INPUTS-----\n",
    "#name of file\n",
    "filename='ROI2_450kx_SS5_CA50_onedge.bcf'\n",
    "#filename='ROI1_450kx_SS5_CA50_onedge.bcf'\n",
    "#filename='Bruker.bcf'\n",
    "\n",
    "#location of file\n",
    "path='C:\\\\Users\\Gabriella\\Documents\\EDS_data'\n",
    "\n",
    "#name of excel file\n",
    "mat_comp='Fe9Cr_elem_data.xlsx'\n",
    "#mat_comp='HT9_elem_data_rev1.xlsx'\n",
    "#mat_comp='HT9_elem_data.xlsx'\n",
    "\n",
    "\n",
    "#-----IMPORTS-----\n",
    "#imports hyperspy\n",
    "import hyperspy.api as hs\n",
    "#imports os module\n",
    "import os\n",
    "#import excel reading module\n",
    "import xlrd\n",
    "#import numpy\n",
    "import numpy as np\n",
    "#import curve fitter\n",
    "from astropy import modeling\n",
    "#import plotting tool\n",
    "import matplotlib.pyplot as plt\n",
    "\n",
    "#-----CONFIRM FILE AND PATH-----\n",
    "#if the file path exists\n",
    "if os.path.exists(path)==True:\n",
    "    #change working directory to indicated path\n",
    "    os.chdir(path)\n",
    "    #tell user what the current path is after statements\n",
    "    print('Working directory: ',os.getcwd())\n",
    "    \n",
    "#if the path does not exist\n",
    "else:\n",
    "    #tell user that path does not exist\n",
    "    print('Path does not exist.')\n",
    "    \n",
    "#if the file exists in location\n",
    "if os.path.isfile(filename):\n",
    "    #confirm file exists\n",
    "    print ('Filename: ',filename)\n",
    "    \n",
    "#if the file does not exist\n",
    "else:\n",
    "    #tell user file does not exist\n",
    "    print('File does not exist.')"
   ]
  },
  {
   "cell_type": "markdown",
   "metadata": {},
   "source": [
    "## Load data"
   ]
  },
  {
   "cell_type": "code",
   "execution_count": 17,
   "metadata": {},
   "outputs": [],
   "source": [
    "#import data\n",
    "data=hs.load(filename)\n",
    "\n",
    "#determine type of file\n",
    "end=filename[-3:]\n",
    "\n",
    "#bruker file\n",
    "if end=='bcf':\n",
    "    #look at each item in data\n",
    "    for j in range(len(data)):\n",
    "        #check for EDS data indicator\n",
    "        if 'EDS_TEM' in data[j].metadata:\n",
    "            #stop loop once found\n",
    "            break\n",
    "    #indicate data of interest\n",
    "    data=data[j]\n",
    "\n",
    "#velox file\n",
    "elif end=='emi':\n",
    "    print('This script is not made for velox files currently.')"
   ]
  },
  {
   "cell_type": "markdown",
   "metadata": {},
   "source": [
    "## Quantify data"
   ]
  },
  {
   "cell_type": "code",
   "execution_count": 18,
   "metadata": {},
   "outputs": [
    {
     "name": "stdout",
     "output_type": "stream",
     "text": [
      "[<BaseSignal, title: X-ray line intensity of EDX: C_Ka at 0.28 keV, dimensions: (1024, 1024|)>, <BaseSignal, title: X-ray line intensity of EDX: Cr_Ka at 5.41 keV, dimensions: (1024, 1024|)>, <BaseSignal, title: X-ray line intensity of EDX: Fe_Ka at 6.40 keV, dimensions: (1024, 1024|)>]\n",
      "base element: Fe\n",
      "next base element: C\n",
      "C : 0.0009380937794945506\n",
      "Cr : 0.5900722529410164\n",
      "Fe : 1065.9915051763853\n"
     ]
    },
    {
     "ename": "IndexError",
     "evalue": "list index out of range",
     "output_type": "error",
     "traceback": [
      "\u001b[1;31m---------------------------------------------------------------------------\u001b[0m",
      "\u001b[1;31mIndexError\u001b[0m                                Traceback (most recent call last)",
      "\u001b[1;32m<ipython-input-18-3ebe1ba77f86>\u001b[0m in \u001b[0;36m<module>\u001b[1;34m\u001b[0m\n\u001b[0;32m     76\u001b[0m \u001b[1;33m\u001b[0m\u001b[0m\n\u001b[0;32m     77\u001b[0m \u001b[1;31m#show kfactors\u001b[0m\u001b[1;33m\u001b[0m\u001b[1;33m\u001b[0m\u001b[1;33m\u001b[0m\u001b[0m\n\u001b[1;32m---> 78\u001b[1;33m \u001b[1;33m[\u001b[0m\u001b[0mprint\u001b[0m\u001b[1;33m(\u001b[0m\u001b[0melements\u001b[0m\u001b[1;33m[\u001b[0m\u001b[0mi\u001b[0m\u001b[1;33m]\u001b[0m\u001b[1;33m,\u001b[0m\u001b[1;34m':'\u001b[0m\u001b[1;33m,\u001b[0m\u001b[0mkfactors\u001b[0m\u001b[1;33m[\u001b[0m\u001b[0mi\u001b[0m\u001b[1;33m]\u001b[0m\u001b[1;33m)\u001b[0m \u001b[1;32mfor\u001b[0m \u001b[0mi\u001b[0m \u001b[1;32min\u001b[0m \u001b[0mrange\u001b[0m\u001b[1;33m(\u001b[0m\u001b[0mlen\u001b[0m\u001b[1;33m(\u001b[0m\u001b[0melements\u001b[0m\u001b[1;33m)\u001b[0m\u001b[1;33m)\u001b[0m\u001b[1;33m]\u001b[0m\u001b[1;33m\u001b[0m\u001b[1;33m\u001b[0m\u001b[0m\n\u001b[0m\u001b[0;32m     79\u001b[0m \u001b[1;33m\u001b[0m\u001b[0m\n\u001b[0;32m     80\u001b[0m \u001b[1;31m#convert to atomic percent\u001b[0m\u001b[1;33m\u001b[0m\u001b[1;33m\u001b[0m\u001b[1;33m\u001b[0m\u001b[0m\n",
      "\u001b[1;32m<ipython-input-18-3ebe1ba77f86>\u001b[0m in \u001b[0;36m<listcomp>\u001b[1;34m(.0)\u001b[0m\n\u001b[0;32m     76\u001b[0m \u001b[1;33m\u001b[0m\u001b[0m\n\u001b[0;32m     77\u001b[0m \u001b[1;31m#show kfactors\u001b[0m\u001b[1;33m\u001b[0m\u001b[1;33m\u001b[0m\u001b[1;33m\u001b[0m\u001b[0m\n\u001b[1;32m---> 78\u001b[1;33m \u001b[1;33m[\u001b[0m\u001b[0mprint\u001b[0m\u001b[1;33m(\u001b[0m\u001b[0melements\u001b[0m\u001b[1;33m[\u001b[0m\u001b[0mi\u001b[0m\u001b[1;33m]\u001b[0m\u001b[1;33m,\u001b[0m\u001b[1;34m':'\u001b[0m\u001b[1;33m,\u001b[0m\u001b[0mkfactors\u001b[0m\u001b[1;33m[\u001b[0m\u001b[0mi\u001b[0m\u001b[1;33m]\u001b[0m\u001b[1;33m)\u001b[0m \u001b[1;32mfor\u001b[0m \u001b[0mi\u001b[0m \u001b[1;32min\u001b[0m \u001b[0mrange\u001b[0m\u001b[1;33m(\u001b[0m\u001b[0mlen\u001b[0m\u001b[1;33m(\u001b[0m\u001b[0melements\u001b[0m\u001b[1;33m)\u001b[0m\u001b[1;33m)\u001b[0m\u001b[1;33m]\u001b[0m\u001b[1;33m\u001b[0m\u001b[1;33m\u001b[0m\u001b[0m\n\u001b[0m\u001b[0;32m     79\u001b[0m \u001b[1;33m\u001b[0m\u001b[0m\n\u001b[0;32m     80\u001b[0m \u001b[1;31m#convert to atomic percent\u001b[0m\u001b[1;33m\u001b[0m\u001b[1;33m\u001b[0m\u001b[1;33m\u001b[0m\u001b[0m\n",
      "\u001b[1;31mIndexError\u001b[0m: list index out of range"
     ]
    }
   ],
   "source": [
    "#window width\n",
    "iw=data.estimate_integration_windows(windows_width=5)\n",
    "\n",
    "#open workbook with elemental information\n",
    "#workbook=xlrd.open_workbook('HT9_elem_data.xlsx')\n",
    "#workbook=xlrd.open_workbook('HT9_elem_data_rev1.xlsx')\n",
    "workbook=xlrd.open_workbook(mat_comp)\n",
    "\n",
    "#open sheet with elemental information\n",
    "sheet=workbook.sheet_by_name('elements')\n",
    "\n",
    "#put data from workbook in list\n",
    "elem=[sheet.row_values(rowx) for rowx in range(sheet.nrows)]\n",
    "\n",
    "#list of elements\n",
    "elements=[]\n",
    "[elements.append(elem[i][0]) for i in range(1,len(elem))]\n",
    "\n",
    "#set elements of interest\n",
    "data.set_elements(elements)\n",
    "\n",
    "#list of desired x-ray lines\n",
    "lines=[]\n",
    "#cycle through list of elements\n",
    "for i in elements:\n",
    "    #create string for K alpha x-ray line\n",
    "    string1=i+'_Ka'\n",
    "    #append x-ray line to list\n",
    "    lines.append(string1)\n",
    "\n",
    "#set x-ray lines of interest\n",
    "data.set_lines(lines)\n",
    "\n",
    "#list of atom %\n",
    "atw=[]\n",
    "[atw.append(elem[i][4]) for i in range(1,len(elem))]\n",
    "\n",
    "#get intensities of each line identified in metadata\n",
    "intensities=data.get_lines_intensity(integration_windows=iw)\n",
    "print(intensities)\n",
    "\n",
    "#get list of sum of intensities for each element at edge of data\n",
    "total_int=[]\n",
    "[total_int.append(sum(i.sum(0).data[1:200])) for i in intensities]\n",
    "\n",
    "#base element index for cliff-lorimer\n",
    "base_ind=total_int.index(max(total_int))\n",
    "\n",
    "#display base element used\n",
    "print('base element:',elements[base_ind])\n",
    "\n",
    "#next base element in a set\n",
    "new_totals=set(total_int)\n",
    "\n",
    "#list of totals with first base element removed\n",
    "new_totals.remove(max(total_int))\n",
    "\n",
    "#index of next base element\n",
    "next_ind=total_int.index(max(new_totals))\n",
    "\n",
    "#display next base element used\n",
    "print('next base element:',elements[next_ind])\n",
    "\n",
    "#empty list of kfactors\n",
    "kfactors=[]\n",
    "#calculate for each element considering 2 lists\n",
    "for i,j in zip(atw,total_int):\n",
    "    #for elements that are not the base element\n",
    "    if atw.index(i)!=base_ind:\n",
    "        #calculate kfactor\n",
    "        kfactors.append((i/atw[base_ind])*(total_int[base_ind]/j))\n",
    "    #for element that is the base element\n",
    "    elif atw.index(i)==base_ind:\n",
    "        #calculate kfactor\n",
    "        kfactors.append((i/atw[next_ind])*(total_int[next_ind]/j))\n",
    "        \n",
    "#show kfactors\n",
    "[print(elements[i],':',kfactors[i]) for i in range(len(elements))]\n",
    "\n",
    "#convert to atomic percent\n",
    "quant=data.quantification(intensities,'CL',factors=kfactors,composition_units='atomic')\n",
    "\n",
    "#plot base element atomic percent map\n",
    "#quant[base_ind].plot()\n",
    "\n",
    "#plot next base element atomic percent map\n",
    "#quant[next_ind].plot()\n",
    "\n",
    "#plot all atomic percent maps\n",
    "#hs.plot.plot_images(quant, cmap='viridis', axes_decor=None, scalebar='all')"
   ]
  },
  {
   "cell_type": "code",
   "execution_count": 15,
   "metadata": {},
   "outputs": [
    {
     "data": {
      "text/plain": [
       "[<matplotlib.axes._subplots.AxesSubplot at 0x1226aa32f98>,\n",
       " <matplotlib.axes._subplots.AxesSubplot at 0x12269615518>,\n",
       " <matplotlib.axes._subplots.AxesSubplot at 0x12269272240>,\n",
       " <matplotlib.axes._subplots.AxesSubplot at 0x12269272b70>,\n",
       " <matplotlib.axes._subplots.AxesSubplot at 0x12269697198>,\n",
       " <matplotlib.axes._subplots.AxesSubplot at 0x12269718e80>,\n",
       " <matplotlib.axes._subplots.AxesSubplot at 0x1226a9890f0>]"
      ]
     },
     "execution_count": 15,
     "metadata": {},
     "output_type": "execute_result"
    },
    {
     "data": {
      "image/png": "[encoded data removed]",
      "text/plain": [
       "<Figure size 432x432 with 14 Axes>"
      ]
     },
     "metadata": {
      "needs_background": "light"
     },
     "output_type": "display_data"
    }
   ],
   "source": [
    "#plot all atomic percent maps\n",
    "hs.plot.plot_images(quant, cmap='viridis', axes_decor=None, scalebar='all')"
   ]
  },
  {
   "cell_type": "markdown",
   "metadata": {},
   "source": [
    "## Determine grain boundary"
   ]
  },
  {
   "cell_type": "code",
   "execution_count": 14,
   "metadata": {},
   "outputs": [
    {
     "name": "stdout",
     "output_type": "stream",
     "text": [
      "This grain boundary is NOT defined.\n"
     ]
    }
   ],
   "source": [
    "#get data of base element (majority elemental composition of alloy)\n",
    "base=quant[base_ind].data\n",
    "\n",
    "#get list of lists with base element averages along each row\n",
    "aves=[]\n",
    "[[aves.append(sum(base[j][i-20:i+20])/40) for i in range(len(base[1]))] for j in range(len(base))]\n",
    "\n",
    "#reshape the averages to match dimensions\n",
    "aves=np.reshape(aves,(1024, 1024))\n",
    "\n",
    "#get minimum value of each row towards the center\n",
    "min_val=[]\n",
    "[min_val.append(min(i[200:900])) for i in aves]\n",
    "#print(min_val)\n",
    "\n",
    "#empty list of grain boundary ranges for each row\n",
    "boundary_range=[]\n",
    "#empty list of grain boundary final indices for each row\n",
    "boundary_ind=[]\n",
    "#each row in the matrix with averages\n",
    "for i in range(1024):\n",
    "    #starting range\n",
    "    r=0\n",
    "    #empty list of ranges within each row\n",
    "    ranges=[]\n",
    "    #empty list of final indices within each row\n",
    "    fin_ind=[]\n",
    "    \n",
    "    #each element in row\n",
    "    for j in range(200,901):\n",
    "        #averages less than 110% of absolute minimum average\n",
    "        #if aves[i][j]<=(1.1*min(min_val)):\n",
    "        if aves[i][j]<=(1.2*(min_val[i]+1)):\n",
    "            #increase range by 1\n",
    "            r+=1\n",
    "        #averages greater than 110% of absolute minimum average\n",
    "        #elif aves[i][j]>(1.1*min(min_val)):\n",
    "        elif aves[i][j]>(1.2*(min_val[i]+1)):\n",
    "            #append range to list\n",
    "            ranges.append(r)\n",
    "            #append final index to list\n",
    "            fin_ind.append(j)\n",
    "            #reset range\n",
    "            r=0\n",
    "    #print(i)        \n",
    "    #print(ranges)\n",
    "    #print(fin_ind)\n",
    "    \n",
    "    #no range\n",
    "    if ranges==[]:\n",
    "        #range is 0\n",
    "        boundary_range.append(0)\n",
    "        #minimum of row of averages\n",
    "        boundary_ind.append(np.argmin(aves[i][200:900]))\n",
    "    #ranges exist\n",
    "    elif max(ranges)!=[]:\n",
    "        #largest range for each row\n",
    "        boundary_range.append(max(ranges))\n",
    "        #index associated with largest range for each row\n",
    "        boundary_ind.append(fin_ind[ranges.index(max(ranges))])\n",
    "\n",
    "#display ranges of grain boundary for each row\n",
    "#print(boundary_range)\n",
    "\n",
    "#display final indices of grain boundary for each row\n",
    "#print(boundary_ind)\n",
    "\n",
    "#comparing 2 ranges at a time\n",
    "for i in range(len(boundary_range)-1):\n",
    "    #first set of indices in a range\n",
    "    set1=set(list(range(boundary_ind[i]-boundary_range[i],boundary_ind[i])))\n",
    "    #second set of indices in a range\n",
    "    set2=set(list(range(boundary_ind[i+1]-boundary_range[i+1],boundary_ind[i+1])))\n",
    "    #intersection of elements between sets\n",
    "    common=set1.intersection(set2)\n",
    "    #empty set\n",
    "    if common==set():\n",
    "        #grain boundary not connected\n",
    "        print('This grain boundary is NOT defined.')\n",
    "        #end loop\n",
    "        break"
   ]
  },
  {
   "cell_type": "markdown",
   "metadata": {},
   "source": [
    "## Fit Gaussian"
   ]
  },
  {
   "cell_type": "code",
   "execution_count": null,
   "metadata": {},
   "outputs": [],
   "source": [
    "#Ni or Cr should be used to fit the Gaussian\n",
    "#Cr=intensities[1].data\n",
    "Cr_ind=elements.index('Cr' or 'cr' or 'chromium' or 'Chromium' or 'CHROMIUM')\n",
    "Cr=quant[Cr_ind].data\n",
    "#m=data[1].create_model()\n",
    "#m.components\n",
    "#m.plot(plot_components=True)\n",
    "#m.fit_component('Fe_Ka')\n",
    "#line=hs.model.components.Gaussian()\n",
    "#m.append(line)\n",
    "#m.fit(fitter=\"mpfit\", bounded=True)\n",
    "#row of data\n",
    "line=500\n",
    "#half of width of area of interest\n",
    "width=512\n",
    "#x data\n",
    "x=np.linspace(min_ind[line]-width,min_ind[line]+width,2*width)\n",
    "#y data\n",
    "y=Cr[line][min_ind[line]-width:min_ind[line]+width]\n",
    "#fitting function\n",
    "fitter=modeling.fitting.LevMarLSQFitter()\n",
    "model=modeling.models.Gaussian1D(max(y),mean=Cr[line][min_ind[line]])\n",
    "fitted_model=fitter(model,x,y)\n",
    "#plot to check accuracy\n",
    "plt.plot(x, y,label='data')\n",
    "plt.plot(x, fitted_model(x),label='fit')\n",
    "plt.legend()\n",
    "fitted_model"
   ]
  },
  {
   "cell_type": "markdown",
   "metadata": {},
   "source": [
    "## Calculate peak intensity"
   ]
  },
  {
   "cell_type": "code",
   "execution_count": null,
   "metadata": {},
   "outputs": [],
   "source": [
    "#use built in max function\n",
    "max(y)"
   ]
  },
  {
   "cell_type": "markdown",
   "metadata": {},
   "source": [
    "## Calculate integral intensity"
   ]
  },
  {
   "cell_type": "code",
   "execution_count": null,
   "metadata": {},
   "outputs": [],
   "source": [
    "#use built in integral function\n",
    "#Cr.integrate1D(1).data\n",
    "sum(y)"
   ]
  },
  {
   "cell_type": "code",
   "execution_count": null,
   "metadata": {},
   "outputs": [],
   "source": [
    "#extra lines to DELETE later\n",
    "#filename='20191115 0749 SI EDS-HAADF-BF Nano Diffraction 588.6 kx.emd'\n",
    "#filename='ROI1_450kx_SS5_CA50_0001_4.ser'\n",
    "#filename='ROI_lg_0001.emi'\n",
    "#filename='20191113_1216_SI_EDS_HAADF_Nano_Diffraction_416_2_kx.emd'\n",
    "#filename='09_52_08_Scanning_Acquire_0003.emi'\n",
    "\n",
    "\n",
    "#look at integration windows with eds spectrum\n",
    "#data.plot(integration_windows=iw)\n",
    "\n",
    "#add tungsten\n",
    "#data.add_elements(['W'])\n",
    "#data.add_lines(['W_La'])\n",
    "\n",
    "#data.plot(True)\n",
    "\n",
    "#print(data.metadata.Sample)\n",
    "#print(intensities)\n",
    "\n",
    "#print(elements[total_int.index(max(total_int))])\n",
    "\n",
    "#cascade_plot = hs.plot.plot_spectra(Fe, style='cascade')\n",
    "\n",
    "#use to look at data or apply functions not within hyperspy\n",
    "##Fe_data=np.exp(Fe).data\n",
    "#get list of indices where minimum occurs in each row\n",
    "#min_ind=Fe.indexmin(axis=1).data\n",
    "\n",
    "#min_ind=[]\n",
    "#[min_ind.append(np.where(i[200:900]==j)) for (i,j) in zip(aves,min_val)]\n",
    "#print(min_ind)\n",
    "\n",
    "    #for j in range(len(min_ind[i])-1):\n",
    "    #    if min_ind[i][j]+1==mind_ind[i][j+1]:\n",
    "    #        r+=1\n",
    "    #    elif min_ind[i][j]+1!=mind_ind[i][j+1]:\n",
    "    #        ranges.append(r)\n",
    "    #        fin_ind.append(min_ind[i][j])\n",
    "    #        r=0\n",
    "    \n",
    "#empty set of unions\n",
    "#connect=[]"
   ]
  }
 ],
 "metadata": {
  "anaconda-cloud": {},
  "kernelspec": {
   "display_name": "Python 3",
   "language": "python",
   "name": "python3"
  },
  "language_info": {
   "codemirror_mode": {
    "name": "ipython",
    "version": 3
   },
   "file_extension": ".py",
   "mimetype": "text/x-python",
   "name": "python",
   "nbconvert_exporter": "python",
   "pygments_lexer": "ipython3",
   "version": "3.7.3"
  },
  "widgets": {
   "application/vnd.jupyter.widget-state+json": {
    "state": {
     "00cba520fba44e8b8aff67cc4cc8df96": {
      "model_module": "jupyter-js-widgets",
      "model_module_version": "~2.1.4",
      "model_name": "LabelModel",
      "state": {
       "_model_module_version": "~2.1.4",
       "_view_module_version": "~2.1.4",
       "disabled": true,
       "layout": "IPY_MODEL_cbc72a976a784078b6d2b83f0470632d"
      }
     },
     "0fc57571dd6c4a018297a70b2542752b": {
      "model_module": "jupyter-js-widgets",
      "model_module_version": "~2.1.4",
      "model_name": "IntSliderModel",
      "state": {
       "_model_module_version": "~2.1.4",
       "_view_module_version": "~2.1.4",
       "description": "index",
       "layout": "IPY_MODEL_86a46aaa88e044b4979f85d70097ad32",
       "max": 1,
       "style": "IPY_MODEL_c362d1c08eef4831ab43c7509f770861",
       "value": 1
      }
     },
     "19b521e12d69469d8d4e0c780d30e276": {
      "model_module": "jupyter-js-widgets",
      "model_module_version": "~2.1.4",
      "model_name": "LayoutModel",
      "state": {
       "_model_module_version": "~2.1.4",
       "_view_module_version": "~2.1.4",
       "display": "flex",
       "flex_flow": "row",
       "justify_content": "space-between"
      }
     },
     "25bc44f15c134063af9b6e6468d5cfb0": {
      "model_module": "jupyter-js-widgets",
      "model_module_version": "~2.1.4",
      "model_name": "CheckboxModel",
      "state": {
       "_model_module_version": "~2.1.4",
       "_view_module_version": "~2.1.4",
       "description": "Continous update",
       "disabled": false,
       "layout": "IPY_MODEL_e669ffd1c5be471e9deefa5809267169",
       "value": true
      }
     },
     "26081e9ea06540fd9f6d0d8c0397283b": {
      "model_module": "jupyter-js-widgets",
      "model_module_version": "~2.1.4",
      "model_name": "LayoutModel",
      "state": {
       "_model_module_version": "~2.1.4",
       "_view_module_version": "~2.1.4"
      }
     },
     "3a9d69275c204f7cbe2d3949d3ae78c6": {
      "model_module": "jupyter-js-widgets",
      "model_module_version": "~2.1.4",
      "model_name": "VBoxModel",
      "state": {
       "_model_module_version": "~2.1.4",
       "_view_module_version": "~2.1.4",
       "children": [
        "IPY_MODEL_9c905befed534b95acf2c4cf7efdd7bf",
        "IPY_MODEL_25bc44f15c134063af9b6e6468d5cfb0"
       ],
       "layout": "IPY_MODEL_f58d7a1edfe2466db9c8d091e80e1795"
      }
     },
     "3d9f6ee4cac2449ebd64250ea8de54aa": {
      "model_module": "jupyter-js-widgets",
      "model_module_version": "~2.1.4",
      "model_name": "LayoutModel",
      "state": {
       "_model_module_version": "~2.1.4",
       "_view_module_version": "~2.1.4"
      }
     },
     "56b34ef901d64361a1325c6bc59771e4": {
      "model_module": "jupyter-js-widgets",
      "model_module_version": "~2.1.4",
      "model_name": "LabelModel",
      "state": {
       "_model_module_version": "~2.1.4",
       "_view_module_version": "~2.1.4",
       "layout": "IPY_MODEL_fc549aa8931c452096bd07da6ae82231",
       "value": "Bare or BSS"
      }
     },
     "86a46aaa88e044b4979f85d70097ad32": {
      "model_module": "jupyter-js-widgets",
      "model_module_version": "~2.1.4",
      "model_name": "LayoutModel",
      "state": {
       "_model_module_version": "~2.1.4",
       "_view_module_version": "~2.1.4"
      }
     },
     "9c905befed534b95acf2c4cf7efdd7bf": {
      "model_module": "jupyter-js-widgets",
      "model_module_version": "~2.1.4",
      "model_name": "HBoxModel",
      "state": {
       "_model_module_version": "~2.1.4",
       "_view_module_version": "~2.1.4",
       "children": [
        "IPY_MODEL_56b34ef901d64361a1325c6bc59771e4",
        "IPY_MODEL_0fc57571dd6c4a018297a70b2542752b",
        "IPY_MODEL_aa153f962c2c4da5aaa4ed65cf0a95e3",
        "IPY_MODEL_00cba520fba44e8b8aff67cc4cc8df96"
       ],
       "layout": "IPY_MODEL_3d9f6ee4cac2449ebd64250ea8de54aa"
      }
     },
     "aa153f962c2c4da5aaa4ed65cf0a95e3": {
      "model_module": "jupyter-js-widgets",
      "model_module_version": "~2.1.4",
      "model_name": "FloatTextModel",
      "state": {
       "_model_module_version": "~2.1.4",
       "_view_module_version": "~2.1.4",
       "description": "value",
       "layout": "IPY_MODEL_26081e9ea06540fd9f6d0d8c0397283b",
       "max": 1,
       "min": 0,
       "step": 1,
       "value": 1
      }
     },
     "c362d1c08eef4831ab43c7509f770861": {
      "model_module": "jupyter-js-widgets",
      "model_module_version": "~2.1.4",
      "model_name": "SliderStyleModel",
      "state": {
       "_model_module_version": "~2.1.4",
       "_view_module_version": "~2.1.4"
      }
     },
     "cbc72a976a784078b6d2b83f0470632d": {
      "model_module": "jupyter-js-widgets",
      "model_module_version": "~2.1.4",
      "model_name": "LayoutModel",
      "state": {
       "_model_module_version": "~2.1.4",
       "_view_module_version": "~2.1.4",
       "width": "5%"
      }
     },
     "e669ffd1c5be471e9deefa5809267169": {
      "model_module": "jupyter-js-widgets",
      "model_module_version": "~2.1.4",
      "model_name": "LayoutModel",
      "state": {
       "_model_module_version": "~2.1.4",
       "_view_module_version": "~2.1.4"
      }
     },
     "f58d7a1edfe2466db9c8d091e80e1795": {
      "model_module": "jupyter-js-widgets",
      "model_module_version": "~2.1.4",
      "model_name": "LayoutModel",
      "state": {
       "_model_module_version": "~2.1.4",
       "_view_module_version": "~2.1.4"
      }
     },
     "fc549aa8931c452096bd07da6ae82231": {
      "model_module": "jupyter-js-widgets",
      "model_module_version": "~2.1.4",
      "model_name": "LayoutModel",
      "state": {
       "_model_module_version": "~2.1.4",
       "_view_module_version": "~2.1.4",
       "width": "15%"
      }
     }
    },
    "version_major": 1,
    "version_minor": 0
   }
  }
 },
 "nbformat": 4,
 "nbformat_minor": 4
}
